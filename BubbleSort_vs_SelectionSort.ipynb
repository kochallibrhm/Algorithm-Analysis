{
 "cells": [
  {
   "cell_type": "code",
   "execution_count": 1,
   "metadata": {},
   "outputs": [
    {
     "output_type": "execute_result",
     "data": {
      "text/plain": [
       "[92, 93, 28, 60, -75, -48, 14, -76, -35, -50]"
      ]
     },
     "metadata": {},
     "execution_count": 1
    }
   ],
   "source": [
    "import random\n",
    "def get_n_random_numbers(n=10, min_ = -5, max_ = 5):\n",
    "    numbers = []\n",
    "    for i in range(n):\n",
    "        numbers.append(random.randint(min_, max_))\n",
    "    return numbers\n",
    "my_list_1 = get_n_random_numbers(10, -100, 100)\n",
    "    "
   ]
  },
  {
   "cell_type": "code",
   "execution_count": 19,
   "metadata": {},
   "outputs": [],
   "source": [
    "# with function\n",
    "def my_bubble_sort(my_list):\n",
    "    n = len(my_list)\n",
    "    comp_counter = 0\n",
    "    swap_counter = 0\n",
    "    for i in range(n-1, -1, -1):\n",
    "        for j in range(0, i):\n",
    "            comp_counter += 1\n",
    "            if not(my_list[j] < my_list[j+1]):\n",
    "                temp = my_list[j]\n",
    "                my_list[j] = my_list[j+1]\n",
    "                my_list[j + 1]  = temp\n",
    "                swap_counter += 1\n",
    "    return swap_counter, comp_counter\n"
   ]
  },
  {
   "cell_type": "code",
   "execution_count": 15,
   "metadata": {},
   "outputs": [],
   "source": [
    "def my_selection_sort(A = [64, 25, 12, 22, 11]):\n",
    "\n",
    "    comp_counter = 0\n",
    "    swap_counter = 0\n",
    "    # Traverse through all array elements\n",
    "    for i in range(len(A)):\n",
    "        \n",
    "        # Find the minimum element in remaining \n",
    "        # unsorted array\n",
    "        min_idx = i\n",
    "        for j in range(i+1, len(A)):\n",
    "            comp_counter += 1\n",
    "            if A[min_idx] > A[j]:\n",
    "                min_idx = j\n",
    "                swap_counter += 1\n",
    "        # Swap the found minimum element with \n",
    "        # the first element        \n",
    "        A[i], A[min_idx] = A[min_idx], A[i]\n",
    "    return swap_counter, comp_counter"
   ]
  },
  {
   "cell_type": "code",
   "execution_count": 20,
   "metadata": {},
   "outputs": [
    {
     "output_type": "execute_result",
     "data": {
      "text/plain": [
       "([-834, -797, -723, -455, -113, 61, 119, 230, 358, 772], (27, 45))"
      ]
     },
     "metadata": {},
     "execution_count": 20
    }
   ],
   "source": [
    "my_list_1 = get_n_random_numbers(10, -1000, 1000)\n",
    "result = my_bubble_sort(my_list_1)\n",
    "my_list_1, result"
   ]
  },
  {
   "cell_type": "code",
   "execution_count": 21,
   "metadata": {},
   "outputs": [
    {
     "output_type": "execute_result",
     "data": {
      "text/plain": [
       "([-891, -693, -645, -442, -419, -322, -259, -78, 182, 714], (12, 45))"
      ]
     },
     "metadata": {},
     "execution_count": 21
    }
   ],
   "source": [
    "my_list_1 = get_n_random_numbers(10, -1000, 1000)\n",
    "result = my_selection_sort(my_list_1)\n",
    "my_list_1, result"
   ]
  },
  {
   "cell_type": "code",
   "execution_count": 27,
   "metadata": {},
   "outputs": [],
   "source": [
    "def my_empiric_study_sorting(numberOfIteration = 10, array_size = 10):\n",
    "    result_bubble_swap = []\n",
    "    result_selection_swap = []\n",
    "    for i in range(numberOfIteration):\n",
    "        my_list_1 = get_n_random_numbers(array_size, -1000, 1000)\n",
    "        my_list_2 = get_n_random_numbers(array_size, -1000, 1000)\n",
    "\n",
    "        result_1 = my_bubble_sort(my_list_1)\n",
    "        result_2 = my_selection_sort(my_list_2)\n",
    "\n",
    "        result_bubble_swap.append(result_1[0])\n",
    "        result_selection_swap.append(result_2[0])\n",
    "    return result_bubble_swap, result_selection_swap"
   ]
  },
  {
   "cell_type": "code",
   "execution_count": 30,
   "metadata": {},
   "outputs": [
    {
     "output_type": "execute_result",
     "data": {
      "text/plain": [
       "([27, 20, 18, 15, 22, 19, 21, 21, 25, 17],\n",
       " [11, 10, 11, 12, 14, 12, 11, 12, 15, 15])"
      ]
     },
     "metadata": {},
     "execution_count": 30
    }
   ],
   "source": [
    "my_empiric_study_sorting(10, 10)"
   ]
  },
  {
   "cell_type": "code",
   "execution_count": null,
   "metadata": {},
   "outputs": [],
   "source": []
  }
 ],
 "metadata": {
  "kernelspec": {
   "display_name": "Python 3",
   "language": "python",
   "name": "python3"
  },
  "language_info": {
   "codemirror_mode": {
    "name": "ipython",
    "version": 3
   },
   "file_extension": ".py",
   "mimetype": "text/x-python",
   "name": "python",
   "nbconvert_exporter": "python",
   "pygments_lexer": "ipython3",
   "version": "3.9.0"
  }
 },
 "nbformat": 4,
 "nbformat_minor": 4
}