{
 "cells": [
  {
   "cell_type": "code",
   "execution_count": 1,
   "metadata": {},
   "outputs": [],
   "source": [
    "import ctypes"
   ]
  },
  {
   "cell_type": "code",
   "execution_count": 84,
   "metadata": {},
   "outputs": [],
   "source": [
    "class DynamicArray:\n",
    "    \"\"\"A dynamic array class akin to a simplified Python list.\"\"\"\n",
    "\n",
    "    def __init__(self):\n",
    "        \"\"\"Create an empty array.\"\"\"\n",
    "        self._n = 0                                    # count actual elements\n",
    "        self._capacity = 1                             # default array capacity\n",
    "        self._A = self._make_array(self._capacity)     # low-level array\n",
    "    \n",
    "    def __len__(self):\n",
    "        \"\"\"Return number of elements stored in the array.\"\"\"\n",
    "        return self._n\n",
    "    \n",
    "    def __getitem__(self, k):\n",
    "        \"\"\"Return element at index k.\"\"\"\n",
    "        if not 0 <= k < self._n:\n",
    "            raise IndexError('invalid index')\n",
    "        return self._A[k]                             # retrieve from array\n",
    "      \n",
    "    def append(self, obj):\n",
    "        \"\"\"Add object to end of the array.\"\"\"\n",
    "        if self._n == self._capacity:                  # not enough room\n",
    "              self._resize(2 * self._capacity)             # so double capacity\n",
    "        self._A[self._n] = obj\n",
    "        self._n += 1\n",
    "        \n",
    "    def _resize(self, c):                              # nonpublic utitity\n",
    "        \"\"\"Resize internal array to capacity c.\"\"\"\n",
    "        B = self._make_array(c)                        # new (bigger) array\n",
    "        print(\"Amortized cost...\")\n",
    "        for k in range(self._n):                       # for each existing value\n",
    "            print(\"Taşıma işlemi...\")\n",
    "            B[k] = self._A[k]\n",
    "        self._A = B                                    # use the bigger array\n",
    "        self._capacity = c\n",
    "\n",
    "    def _make_array(self, c):                          # nonpublic utitity\n",
    "        \"\"\"Return new array with capacity c.\"\"\"   \n",
    "        return (c * ctypes.py_object)()                # see ctypes documentation\n",
    "\n",
    "    def insert(self, k, value):\n",
    "        \"\"\"Insert value at index k, shifting subsequent values rightward.\"\"\"\n",
    "    # (for simplicity, we assume 0 <= k <= n in this verion)\n",
    "        if self._n == self._capacity:                  # not enough room\n",
    "            self._resize(2 * self._capacity)             # so double capacity\n",
    "        for j in range(self._n, k, -1):                # shift rightmost first\n",
    "            self._A[j] = self._A[j-1]\n",
    "        self._A[k] = value                             # store newest element\n",
    "        self._n += 1\n",
    "\n",
    "    def remove(self, value):\n",
    "        \"\"\"Remove first occurrence of value (or raise ValueError).\"\"\"\n",
    "        # note: we do not consider shrinking the dynamic array in this version\n",
    "        for k in range(self._n):\n",
    "            if self._A[k] == value:                # found a match!\n",
    "                for j in range(k, self._n - 1):    # shift others to fill gap\n",
    "                    self._A[j] = self._A[j+1]\n",
    "                self._A[self._n - 1] = None        # help garbage collection\n",
    "                self._n -= 1                       # we have one less item\n",
    "                return                             # exit immediately\n",
    "        raise ValueError('value not found')        # only reached if no match\n",
    "        \n",
    "    def getSize(self):\n",
    "        import sys\n",
    "        try:\n",
    "            return sys.getsizeof(self._A)\n",
    "        except:\n",
    "            return 0\n",
    "        \n",
    "    def ToString(self):\n",
    "        try:\n",
    "            for i in self._A:\n",
    "                print(i, \" \")\n",
    "        except:\n",
    "            pass\n",
    "    \n",
    "    def getLength(self):\n",
    "        return len(self._A)"
   ]
  },
  {
   "cell_type": "code",
   "execution_count": 85,
   "metadata": {},
   "outputs": [],
   "source": [
    "c = DynamicArray()"
   ]
  },
  {
   "cell_type": "code",
   "execution_count": 86,
   "metadata": {},
   "outputs": [
    {
     "data": {
      "text/plain": [
       "(1, 120)"
      ]
     },
     "execution_count": 86,
     "metadata": {},
     "output_type": "execute_result"
    }
   ],
   "source": [
    "c.getLength(), c.getSize()"
   ]
  },
  {
   "cell_type": "code",
   "execution_count": 87,
   "metadata": {},
   "outputs": [
    {
     "name": "stdout",
     "output_type": "stream",
     "text": [
      "Amortized cost...\n",
      "Taşıma işlemi...\n",
      "Amortized cost...\n",
      "Taşıma işlemi...\n",
      "Taşıma işlemi...\n",
      "Amortized cost...\n",
      "Taşıma işlemi...\n",
      "Taşıma işlemi...\n",
      "Taşıma işlemi...\n",
      "Taşıma işlemi...\n",
      "Amortized cost...\n",
      "Taşıma işlemi...\n",
      "Taşıma işlemi...\n",
      "Taşıma işlemi...\n",
      "Taşıma işlemi...\n",
      "Taşıma işlemi...\n",
      "Taşıma işlemi...\n",
      "Taşıma işlemi...\n",
      "Taşıma işlemi...\n"
     ]
    },
    {
     "data": {
      "text/plain": [
       "(16, 120)"
      ]
     },
     "execution_count": 87,
     "metadata": {},
     "output_type": "execute_result"
    }
   ],
   "source": [
    "for i in range(15):\n",
    "    c.append(-100)\n",
    "c.getLength(), c.getSize()"
   ]
  },
  {
   "cell_type": "code",
   "execution_count": 66,
   "metadata": {},
   "outputs": [
    {
     "name": "stdout",
     "output_type": "stream",
     "text": [
      "s_1: 48, s_2: 608\n"
     ]
    }
   ],
   "source": [
    "import sys\n",
    "from pympler import asizeof\n",
    "s_1 = sys.getsizeof(c)\n",
    "s_2 = asizeof.asizeof(c)\n",
    "print(\"s_1: {0}, s_2: {1}\".format(s_1, s_2))\n"
   ]
  },
  {
   "cell_type": "code",
   "execution_count": 70,
   "metadata": {},
   "outputs": [
    {
     "name": "stdout",
     "output_type": "stream",
     "text": [
      "s_1: 48, s_2: 616\n"
     ]
    }
   ],
   "source": [
    "n = 10\n",
    "for i in range(n):\n",
    "    c.append(12)\n",
    "    c.append(\"sdfsdfsdf\")\n",
    "    \n",
    "s_1 = sys.getsizeof(c)\n",
    "s_2 = asizeof.asizeof(c)\n",
    "print(\"s_1: {0}, s_2: {1}\".format(s_1, s_2))"
   ]
  },
  {
   "cell_type": "code",
   "execution_count": 72,
   "metadata": {},
   "outputs": [
    {
     "name": "stdout",
     "output_type": "stream",
     "text": [
      "len: 16\n",
      "size: 120\n"
     ]
    }
   ],
   "source": [
    "c = DynamicArray()\n",
    "for i in range(10):\n",
    "    c.append(i)\n",
    "    #c.ToString()\n",
    "print(\"len: {0}\".format(c.getLength()))\n",
    "print(\"size: {0}\".format(c.getSize()))"
   ]
  },
  {
   "cell_type": "code",
   "execution_count": null,
   "metadata": {},
   "outputs": [],
   "source": []
  }
 ],
 "metadata": {
  "kernelspec": {
   "display_name": "Python 3",
   "language": "python",
   "name": "python3"
  },
  "language_info": {
   "codemirror_mode": {
    "name": "ipython",
    "version": 3
   },
   "file_extension": ".py",
   "mimetype": "text/x-python",
   "name": "python",
   "nbconvert_exporter": "python",
   "pygments_lexer": "ipython3",
   "version": "3.9.0"
  }
 },
 "nbformat": 4,
 "nbformat_minor": 4
}
