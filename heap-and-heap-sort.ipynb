{
 "metadata": {
  "language_info": {
   "codemirror_mode": {
    "name": "ipython",
    "version": 3
   },
   "file_extension": ".py",
   "mimetype": "text/x-python",
   "name": "python",
   "nbconvert_exporter": "python",
   "pygments_lexer": "ipython3",
   "version": "3.9.0"
  },
  "orig_nbformat": 2,
  "kernelspec": {
   "name": "python390jvsc74a57bd063fd5069d213b44bf678585dea6b12cceca9941eaf7f819626cde1f2670de90d",
   "display_name": "Python 3.9.0 64-bit"
  }
 },
 "nbformat": 4,
 "nbformat_minor": 2,
 "cells": [
  {
   "cell_type": "code",
   "execution_count": 1,
   "metadata": {},
   "outputs": [],
   "source": [
    "def min_heapify(array, i):\n",
    "    left = 2 * i + 1\n",
    "    right = 2 * i + 2\n",
    "    length = len(array) - 1\n",
    "    smallest = i\n",
    "    if left <= length and array[i] > array[left]:\n",
    "        smallest = left\n",
    "    if right <= length and array[smallest] > array[right]:\n",
    "        smallest = right\n",
    "    if smallest != i:\n",
    "        array[i], array[smallest] = array[smallest], array[i]\n",
    "        min_heapify(array, smallest)"
   ]
  },
  {
   "cell_type": "code",
   "execution_count": 2,
   "metadata": {},
   "outputs": [],
   "source": [
    "def build_min_heap(array):\n",
    "    for i in reversed(range(len(array)//2)):\n",
    "        min_heapify(array, i)"
   ]
  },
  {
   "cell_type": "code",
   "execution_count": 3,
   "metadata": {},
   "outputs": [],
   "source": [
    "myArray1 = [8, 10, 3, 4, 7, 14, 1, 2, 16]"
   ]
  },
  {
   "cell_type": "code",
   "execution_count": 4,
   "metadata": {},
   "outputs": [],
   "source": [
    "build_min_heap(myArray1)"
   ]
  },
  {
   "cell_type": "code",
   "execution_count": 5,
   "metadata": {},
   "outputs": [
    {
     "output_type": "execute_result",
     "data": {
      "text/plain": [
       "[1, 2, 3, 4, 7, 14, 8, 10, 16]"
      ]
     },
     "metadata": {},
     "execution_count": 5
    }
   ],
   "source": [
    "myArray1"
   ]
  },
  {
   "cell_type": "code",
   "execution_count": 13,
   "metadata": {},
   "outputs": [],
   "source": [
    "# Python3 implementation of Min Heap\n",
    "# INSERT AND REMOVE FUNCS BELOW HERE!!!!!\n",
    " \n",
    "import sys\n",
    " \n",
    "class MinHeap:\n",
    " \n",
    "    def __init__(self, maxsize):\n",
    "        self.maxsize = maxsize\n",
    "        self.size = 0\n",
    "        self.Heap = [0]*(self.maxsize + 1)\n",
    "        self.Heap[0] = -1 * sys.maxsize\n",
    "        self.FRONT = 1\n",
    " \n",
    "    # Function to return the position of\n",
    "    # parent for the node currently\n",
    "    # at pos\n",
    "    def parent(self, pos):\n",
    "        return pos//2\n",
    " \n",
    "    # Function to return the position of\n",
    "    # the left child for the node currently\n",
    "    # at pos\n",
    "    def leftChild(self, pos):\n",
    "        return 2 * pos\n",
    " \n",
    "    # Function to return the position of\n",
    "    # the right child for the node currently\n",
    "    # at pos\n",
    "    def rightChild(self, pos):\n",
    "        return (2 * pos) + 1\n",
    " \n",
    "    # Function that returns true if the passed\n",
    "    # node is a leaf node\n",
    "    def isLeaf(self, pos):\n",
    "        if pos >= (self.size//2) and pos <= self.size:\n",
    "            return True\n",
    "        return False\n",
    " \n",
    "    # Function to swap two nodes of the heap\n",
    "    def swap(self, fpos, spos):\n",
    "        self.Heap[fpos], self.Heap[spos] = self.Heap[spos], self.Heap[fpos]\n",
    " \n",
    "    # Function to heapify the node at pos\n",
    "    def minHeapify(self, pos):\n",
    " \n",
    "        # If the node is a non-leaf node and greater\n",
    "        # than any of its child\n",
    "        if not self.isLeaf(pos):\n",
    "            if (self.Heap[pos] > self.Heap[self.leftChild(pos)] or\n",
    "               self.Heap[pos] > self.Heap[self.rightChild(pos)]):\n",
    " \n",
    "                # Swap with the left child and heapify\n",
    "                # the left child\n",
    "                if self.Heap[self.leftChild(pos)] < self.Heap[self.rightChild(pos)]:\n",
    "                    self.swap(pos, self.leftChild(pos))\n",
    "                    self.minHeapify(self.leftChild(pos))\n",
    " \n",
    "                # Swap with the right child and heapify\n",
    "                # the right child\n",
    "                else:\n",
    "                    self.swap(pos, self.rightChild(pos))\n",
    "                    self.minHeapify(self.rightChild(pos))\n",
    " \n",
    "    # Function to insert a node into the heap\n",
    "    def insert(self, element):\n",
    "        if self.size >= self.maxsize :\n",
    "            return\n",
    "        self.size+= 1\n",
    "        self.Heap[self.size] = element\n",
    " \n",
    "        current = self.size\n",
    " \n",
    "        while self.Heap[current] < self.Heap[self.parent(current)]:\n",
    "            self.swap(current, self.parent(current))\n",
    "            current = self.parent(current)\n",
    " \n",
    "    # Function to print the contents of the heap\n",
    "    def Print(self):\n",
    "        for i in range(1, (self.size//2)+1):\n",
    "            print(\" PARENT : \"+ str(self.Heap[i])+\" LEFT CHILD : \"+\n",
    "                                str(self.Heap[2 * i])+\" RIGHT CHILD : \"+\n",
    "                                str(self.Heap[2 * i + 1]))\n",
    " \n",
    "    # Function to build the min heap using\n",
    "    # the minHeapify function\n",
    "    def minHeap(self):\n",
    " \n",
    "        for pos in range(self.size//2, 0, -1):\n",
    "            self.minHeapify(pos)\n",
    " \n",
    "    # Function to remove and return the minimum\n",
    "    # element from the heap\n",
    "    def remove(self):\n",
    " \n",
    "        popped = self.Heap[self.FRONT]\n",
    "        self.Heap[self.FRONT] = self.Heap[self.size]\n",
    "        self.size-= 1\n",
    "        self.minHeapify(self.FRONT)\n",
    "        return popped"
   ]
  },
  {
   "cell_type": "code",
   "execution_count": 14,
   "metadata": {},
   "outputs": [
    {
     "output_type": "stream",
     "name": "stdout",
     "text": [
      "The minHeap is \n PARENT : 3 LEFT CHILD : 5 RIGHT CHILD : 6\n PARENT : 5 LEFT CHILD : 9 RIGHT CHILD : 84\n PARENT : 6 LEFT CHILD : 19 RIGHT CHILD : 17\n PARENT : 9 LEFT CHILD : 22 RIGHT CHILD : 10\nThe Min val is 3\n"
     ]
    }
   ],
   "source": [
    "# Driver Code\n",
    "if __name__ == \"__main__\":\n",
    "     \n",
    "    print('The minHeap is ')\n",
    "    minHeap = MinHeap(15)\n",
    "    minHeap.insert(5)\n",
    "    minHeap.insert(3)\n",
    "    minHeap.insert(17)\n",
    "    minHeap.insert(10)\n",
    "    minHeap.insert(84)\n",
    "    minHeap.insert(19)\n",
    "    minHeap.insert(6)\n",
    "    minHeap.insert(22)\n",
    "    minHeap.insert(9)\n",
    "    minHeap.minHeap()\n",
    " \n",
    "    minHeap.Print()\n",
    "    print(\"The Min val is \" + str(minHeap.remove()))"
   ]
  },
  {
   "cell_type": "code",
   "execution_count": null,
   "metadata": {},
   "outputs": [],
   "source": [
    " "
   ]
  }
 ]
}