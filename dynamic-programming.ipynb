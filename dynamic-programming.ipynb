{
 "metadata": {
  "language_info": {
   "codemirror_mode": {
    "name": "ipython",
    "version": 3
   },
   "file_extension": ".py",
   "mimetype": "text/x-python",
   "name": "python",
   "nbconvert_exporter": "python",
   "pygments_lexer": "ipython3",
   "version": "3.9.0"
  },
  "orig_nbformat": 2,
  "kernelspec": {
   "name": "python390jvsc74a57bd063fd5069d213b44bf678585dea6b12cceca9941eaf7f819626cde1f2670de90d",
   "display_name": "Python 3.9.0 64-bit"
  }
 },
 "nbformat": 4,
 "nbformat_minor": 2,
 "cells": [
  {
   "cell_type": "code",
   "execution_count": 15,
   "metadata": {},
   "outputs": [],
   "source": [
    "import random\n",
    "\n",
    "#The following class was defined in an earlier chapter,\n",
    "#and is used here.\n",
    "class Item(object):\n",
    "    def __init__(self, n, v, w):\n",
    "        self.name = n\n",
    "        self.value = float(v)\n",
    "        self.weight = float(w)\n",
    "    def getName(self):\n",
    "        return self.name\n",
    "    def getValue(self):\n",
    "        return self.value\n",
    "    def getWeight(self):\n",
    "        return self.weight\n",
    "    def __str__(self):\n",
    "        result = '<' + self.name + ', ' + str(self.value)\\\n",
    "                 + ', ' + str(self.weight) + '>'\n",
    "        return result"
   ]
  },
  {
   "cell_type": "code",
   "execution_count": 4,
   "metadata": {},
   "outputs": [],
   "source": [
    "def fib(n):\n",
    "    \"\"\"Assumes n is an int >= 0\n",
    "       Returns Fibonacci of n\"\"\"\n",
    "    print(\"Current parameter: \", n)\n",
    "    if n == 0 or n == 1:\n",
    "        return 1\n",
    "    else:\n",
    "        return fib(n-1) + fib(n-2)"
   ]
  },
  {
   "cell_type": "code",
   "execution_count": 5,
   "metadata": {},
   "outputs": [
    {
     "output_type": "stream",
     "name": "stdout",
     "text": [
      "Current parameter:  5\nCurrent parameter:  4\nCurrent parameter:  3\nCurrent parameter:  2\nCurrent parameter:  1\nCurrent parameter:  0\nCurrent parameter:  1\nCurrent parameter:  2\nCurrent parameter:  1\nCurrent parameter:  0\nCurrent parameter:  3\nCurrent parameter:  2\nCurrent parameter:  1\nCurrent parameter:  0\nCurrent parameter:  1\n"
     ]
    },
    {
     "output_type": "execute_result",
     "data": {
      "text/plain": [
       "8"
      ]
     },
     "metadata": {},
     "execution_count": 5
    }
   ],
   "source": [
    "fib(5)"
   ]
  },
  {
   "cell_type": "code",
   "execution_count": 9,
   "metadata": {},
   "outputs": [],
   "source": [
    "def fastFib(n, memo = {}):\n",
    "    \"\"\"Assumes n is an int >= 0, memo used only by recursive calls\n",
    "       Returns Fibonacci of n\"\"\"\n",
    "    print(\"Current parameter: \", n)\n",
    "    if n == 0 or n == 1:\n",
    "        return 1\n",
    "    try:\n",
    "        return memo[n]\n",
    "    except KeyError:\n",
    "        result = fastFib(n-1, memo) + fastFib(n-2, memo)\n",
    "        memo[n] = result\n",
    "        return result"
   ]
  },
  {
   "cell_type": "code",
   "execution_count": 11,
   "metadata": {},
   "outputs": [
    {
     "output_type": "stream",
     "name": "stdout",
     "text": [
      "Current parameter:  15\n"
     ]
    },
    {
     "output_type": "execute_result",
     "data": {
      "text/plain": [
       "987"
      ]
     },
     "metadata": {},
     "execution_count": 11
    }
   ],
   "source": [
    "fastFib(15)"
   ]
  },
  {
   "cell_type": "code",
   "execution_count": 12,
   "metadata": {},
   "outputs": [],
   "source": [
    "def maxVal(toConsider, avail):\n",
    "    \"\"\"Assumes toConsider a list of items, avail a weight\n",
    "       Returns a tuple of the total weight of a solution to the\n",
    "         0/1 knapsack problem and the items of that solution\"\"\"\n",
    "    if toConsider == [] or avail == 0:\n",
    "        result = (0, ())\n",
    "    elif toConsider[0].getWeight() > avail:\n",
    "        #Explore right branch only\n",
    "        result = maxVal(toConsider[1:], avail)\n",
    "    else:\n",
    "        nextItem = toConsider[0]\n",
    "        #Explore left branch\n",
    "        withVal, withToTake = maxVal(toConsider[1:],\n",
    "                                     avail - nextItem.getWeight())\n",
    "        withVal += nextItem.getValue()\n",
    "        #Explore right branch\n",
    "        withoutVal, withoutToTake = maxVal(toConsider[1:],\n",
    "                                           avail)\n",
    "        #Choose better branch\n",
    "        if withVal > withoutVal:\n",
    "            result = (withVal, withToTake + (nextItem,))\n",
    "        else:\n",
    "            result = (withoutVal, withoutToTake)\n",
    "    return result"
   ]
  },
  {
   "cell_type": "code",
   "execution_count": 13,
   "metadata": {},
   "outputs": [],
   "source": [
    "def smallTest():\n",
    "    names = ['a', 'b', 'c', 'd']\n",
    "    vals = [6, 7, 8, 9]\n",
    "    weights = [3, 3, 2, 5]\n",
    "    Items = []\n",
    "    for i in range(len(vals)):\n",
    "        Items.append(Item(names[i], vals[i], weights[i]))\n",
    "    val, taken = maxVal(Items, 5)\n",
    "    for item in taken:\n",
    "        print(item)\n",
    "    print('Total value of items taken =', val)"
   ]
  },
  {
   "cell_type": "code",
   "execution_count": 16,
   "metadata": {},
   "outputs": [
    {
     "output_type": "stream",
     "name": "stdout",
     "text": [
      "<c, 8.0, 2.0>\n<b, 7.0, 3.0>\nTotal value of items taken = 15.0\n"
     ]
    }
   ],
   "source": [
    "smallTest()"
   ]
  },
  {
   "cell_type": "code",
   "execution_count": 18,
   "metadata": {},
   "outputs": [],
   "source": [
    "def buildManyItems(numItems, maxVal, maxWeight):\n",
    "    items = []\n",
    "    for i in range(numItems):\n",
    "        items.append(Item(str(i),\n",
    "                          random.randint(1, maxVal),\n",
    "                          random.randint(1, maxWeight)))\n",
    "    return items\n",
    "\n",
    "\n",
    "def bigTest(numItems):\n",
    "    items = buildManyItems(numItems, 10, 10)\n",
    "    val, taken = maxVal(items, 40)\n",
    "    print('Items Taken')\n",
    "    for item in taken:\n",
    "        print(item)\n",
    "    print('Total value of items taken =', val)"
   ]
  },
  {
   "cell_type": "code",
   "execution_count": 19,
   "metadata": {},
   "outputs": [
    {
     "output_type": "stream",
     "name": "stdout",
     "text": [
      "Items Taken\n<3, 7.0, 7.0>\n<2, 3.0, 3.0>\n<1, 6.0, 1.0>\n<0, 10.0, 4.0>\nTotal value of items taken = 26.0\n"
     ]
    }
   ],
   "source": [
    "bigTest(4)"
   ]
  },
  {
   "cell_type": "code",
   "execution_count": 20,
   "metadata": {},
   "outputs": [],
   "source": [
    "def fastMaxVal(toConsider, avail, memo = {}):\n",
    "    \"\"\"Assumes toConsider a list of items, avail a weight\n",
    "         memo used only by recursive calls\n",
    "       Returns a tuple of the total weight of a solution to the\n",
    "         0/1 knapsack problem and the items of that solution\"\"\"\n",
    "    if (len(toConsider), avail) in memo:\n",
    "        result = memo[(len(toConsider), avail)]\n",
    "    elif toConsider == [] or avail == 0:\n",
    "        result = (0, ())\n",
    "    elif toConsider[0].getWeight() > avail:\n",
    "        #Explore right branch only\n",
    "        result = fastMaxVal(toConsider[1:], avail, memo)\n",
    "    else:\n",
    "        nextItem = toConsider[0]\n",
    "        #Explore left branch\n",
    "        withVal, withToTake =\\\n",
    "                 fastMaxVal(toConsider[1:],\n",
    "                            avail - nextItem.getWeight(), memo)\n",
    "        withVal += nextItem.getValue()\n",
    "        #Explore right branch\n",
    "        withoutVal, withoutToTake = fastMaxVal(toConsider[1:],\n",
    "                                                avail, memo)\n",
    "        #Choose better branch\n",
    "        if withVal > withoutVal:\n",
    "            result = (withVal, withToTake + (nextItem,))\n",
    "        else:\n",
    "            result = (withoutVal, withoutToTake)\n",
    "    memo[(len(toConsider), avail)] = result\n",
    "    return result"
   ]
  },
  {
   "cell_type": "code",
   "execution_count": 23,
   "metadata": {},
   "outputs": [
    {
     "output_type": "execute_result",
     "data": {
      "text/plain": [
       "(97.0,\n",
       " (<__main__.Item at 0x1d329317190>,\n",
       "  <__main__.Item at 0x1d329317040>,\n",
       "  <__main__.Item at 0x1d329317af0>,\n",
       "  <__main__.Item at 0x1d3293096d0>,\n",
       "  <__main__.Item at 0x1d329309eb0>,\n",
       "  <__main__.Item at 0x1d329309580>,\n",
       "  <__main__.Item at 0x1d329304220>,\n",
       "  <__main__.Item at 0x1d329304be0>,\n",
       "  <__main__.Item at 0x1d329304a00>,\n",
       "  <__main__.Item at 0x1d329324640>,\n",
       "  <__main__.Item at 0x1d3293242e0>,\n",
       "  <__main__.Item at 0x1d329770700>))"
      ]
     },
     "metadata": {},
     "execution_count": 23
    }
   ],
   "source": [
    "items = buildManyItems(50, 10, 10)\n",
    "fastMaxVal(items, 40)"
   ]
  }
 ]
}