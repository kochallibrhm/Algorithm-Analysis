{
 "metadata": {
  "language_info": {
   "codemirror_mode": {
    "name": "ipython",
    "version": 3
   },
   "file_extension": ".py",
   "mimetype": "text/x-python",
   "name": "python",
   "nbconvert_exporter": "python",
   "pygments_lexer": "ipython3",
   "version": "3.9.0"
  },
  "orig_nbformat": 2,
  "kernelspec": {
   "name": "python390jvsc74a57bd063fd5069d213b44bf678585dea6b12cceca9941eaf7f819626cde1f2670de90d",
   "display_name": "Python 3.9.0 64-bit"
  }
 },
 "nbformat": 4,
 "nbformat_minor": 2,
 "cells": [
  {
   "cell_type": "code",
   "execution_count": 30,
   "metadata": {},
   "outputs": [],
   "source": [
    "class Node:\n",
    "    def __init__(self, key):\n",
    "        self.left = None\n",
    "        self.right = None\n",
    "        self.val = key\n",
    "        self.depth = 0\n",
    "    \n",
    "    def __str__(self):\n",
    "        return \"val: \" + str(self.val)+ \" depth:  \" + str(self.depth)"
   ]
  },
  {
   "cell_type": "code",
   "execution_count": 33,
   "metadata": {},
   "outputs": [],
   "source": [
    "def insert(root, key):\n",
    "    if root is None:\n",
    "        return Node(key)\n",
    "    else:\n",
    "        root.depth += 1\n",
    "        if root.val == key:\n",
    "            return root\n",
    "        elif root.val < key:\n",
    "            root.right = insert(root.right, key)\n",
    "        else:\n",
    "            root.left = insert(root.left, key)\n",
    "    return root"
   ]
  },
  {
   "cell_type": "code",
   "execution_count": 34,
   "metadata": {},
   "outputs": [],
   "source": [
    "r = Node(50)\n",
    "r = insert(r, 30)\n",
    "r = insert(r, 20)\n",
    "r = insert(r, 40)\n",
    "r = insert(r, 70)\n",
    "r = insert(r, 60)\n",
    "r = insert(r, 80)"
   ]
  },
  {
   "cell_type": "code",
   "execution_count": 35,
   "metadata": {},
   "outputs": [
    {
     "output_type": "execute_result",
     "data": {
      "text/plain": [
       "(50, 6)"
      ]
     },
     "metadata": {},
     "execution_count": 35
    }
   ],
   "source": [
    "r.val, r.depth"
   ]
  },
  {
   "cell_type": "code",
   "execution_count": 78,
   "metadata": {},
   "outputs": [],
   "source": [
    "sumOfDepth = 0\n",
    "numOfNodes = 0\n",
    "def inorder(root):\n",
    "    if root:\n",
    "        inorder(root.left)\n",
    "        print(root.val, root.depth, end = \" -- \")\n",
    "        global sumOfDepth\n",
    "        global numOfNodes\n",
    "\n",
    "        numOfNodes += 1\n",
    "        sumOfDepth += root.depth\n",
    "        inorder(root.right)"
   ]
  },
  {
   "cell_type": "code",
   "execution_count": 74,
   "metadata": {},
   "outputs": [
    {
     "output_type": "stream",
     "name": "stdout",
     "text": [
      "20 0 -- 30 2 -- 40 0 -- 50 6 -- 60 0 -- 70 2 -- 80 0 -- "
     ]
    },
    {
     "output_type": "execute_result",
     "data": {
      "text/plain": [
       "(10, 7, 1.4285714285714286, 1.9459101490553132)"
      ]
     },
     "metadata": {},
     "execution_count": 74
    }
   ],
   "source": [
    "import math\n",
    "inorder(r)\n",
    "sumOfDepth, numOfNodes, sumOfDepth/numOfNodes, math.log(numOfNodes)"
   ]
  },
  {
   "cell_type": "code",
   "execution_count": 77,
   "metadata": {},
   "outputs": [],
   "source": [
    "import random\n",
    "for i in range(100):\n",
    "    s = random.randint(-1000, 1000)\n",
    "    insert(r, s)"
   ]
  },
  {
   "cell_type": "code",
   "execution_count": 79,
   "metadata": {},
   "outputs": [
    {
     "output_type": "stream",
     "name": "stdout",
     "text": [
      "-990 2 -- -969 0 -- -948 1 -- -894 33 -- -892 0 -- -841 2 -- -819 0 -- -807 3 -- -779 5 -- -762 0 -- -757 10 -- -738 0 -- -643 2 -- -573 0 -- -561 3 -- -551 29 -- -536 0 -- -459 1 -- -434 15 -- -427 0 -- -420 4 -- -391 1 -- -305 0 -- -295 2 -- -286 8 -- -249 1 -- -234 0 -- -212 2 -- -185 12 -- -183 2 -- -170 1 -- -67 0 -- -66 17 -- -37 0 -- 20 34 -- 30 37 -- 37 0 -- 40 1 -- 50 106 -- 52 1 -- 54 0 -- 60 3 -- 62 0 -- 70 66 -- 71 1 -- 75 0 -- 80 61 -- 82 58 -- 96 0 -- 118 3 -- 180 0 -- 185 1 -- 210 57 -- 211 1 -- 226 0 -- 229 2 -- 239 3 -- 254 52 -- 279 1 -- 281 0 -- 287 6 -- 384 2 -- 397 0 -- 405 1 -- 406 14 -- 419 0 -- 458 3 -- 475 1 -- 483 0 -- 522 6 -- 526 0 -- 533 1 -- 538 16 -- 547 0 -- 550 24 -- 576 6 -- 588 0 -- 606 5 -- 614 0 -- 615 1 -- 642 2 -- 644 26 -- 652 0 -- 661 33 -- 693 1 -- 712 0 -- 726 3 -- 748 0 -- 757 5 -- 767 0 -- 806 47 -- 814 2 -- 818 0 -- 825 1 -- 827 3 -- 833 5 -- 867 0 -- 891 12 -- 901 3 -- 903 0 -- 934 1 -- 936 2 -- 978 5 -- 989 0 -- "
     ]
    },
    {
     "output_type": "execute_result",
     "data": {
      "text/plain": [
       "(881, 104, 8.471153846153847, 4.6443908991413725)"
      ]
     },
     "metadata": {},
     "execution_count": 79
    }
   ],
   "source": [
    "inorder(r)\n",
    "sumOfDepth, numOfNodes, sumOfDepth/numOfNodes, math.log(numOfNodes)"
   ]
  },
  {
   "cell_type": "code",
   "execution_count": 8,
   "metadata": {},
   "outputs": [],
   "source": [
    "def search(root,key):\n",
    "     \n",
    "    # Base Cases: root is null or key is present at root\n",
    "    if root is None or root.val == key:\n",
    "        return root\n",
    " \n",
    "    # Key is greater than root's key\n",
    "    if root.val < key:\n",
    "        return search(root.right,key)\n",
    "   \n",
    "    # Key is smaller than root's key\n",
    "    return search(root.left,key)"
   ]
  },
  {
   "cell_type": "code",
   "execution_count": 9,
   "metadata": {},
   "outputs": [
    {
     "output_type": "execute_result",
     "data": {
      "text/plain": [
       "20"
      ]
     },
     "metadata": {},
     "execution_count": 9
    }
   ],
   "source": [
    "result = search(r,20)\n",
    "result.val"
   ]
  },
  {
   "cell_type": "code",
   "execution_count": 22,
   "metadata": {},
   "outputs": [],
   "source": [
    "def minValueNode(node):\n",
    "    current = node\n",
    " \n",
    "    # loop down to find the leftmost leaf\n",
    "    while(current.left is not None):\n",
    "        current = current.left\n",
    " \n",
    "    return current\n",
    " \n",
    "# Given a binary search tree and a key, this function\n",
    "# delete the key and returns the new root\n",
    " \n",
    " \n",
    "def deleteNode(root, key):\n",
    " \n",
    "    # Base Case\n",
    "    if root is None:\n",
    "        return root\n",
    " \n",
    "    # If the key to be deleted\n",
    "    # is smaller than the root's\n",
    "    # key then it lies in  left subtree\n",
    "    if key < root.val:\n",
    "        root.left = deleteNode(root.left, key)\n",
    " \n",
    "    # If the kye to be delete\n",
    "    # is greater than the root's key\n",
    "    # then it lies in right subtree\n",
    "    elif(key > root.val):\n",
    "        root.right = deleteNode(root.right, key)\n",
    " \n",
    "    # If key is same as root's key, then this is the node\n",
    "    # to be deleted\n",
    "    else:\n",
    " \n",
    "        # Node with only one child or no child\n",
    "        if root.left is None:\n",
    "            temp = root.right\n",
    "            root = None\n",
    "            return temp\n",
    " \n",
    "        elif root.right is None:\n",
    "            temp = root.left\n",
    "            root = None\n",
    "            return temp\n",
    " \n",
    "        # Node with two children:\n",
    "        # Get the inorder successor\n",
    "        # (smallest in the right subtree)\n",
    "        temp = minValueNode(root.right)\n",
    " \n",
    "        # Copy the inorder successor's\n",
    "        # content to this node\n",
    "        root.key = temp.val\n",
    " \n",
    "        # Delete the inorder successor\n",
    "        root.right = deleteNode(root.right, temp.val)\n",
    " \n",
    "    return root"
   ]
  },
  {
   "cell_type": "code",
   "execution_count": 23,
   "metadata": {},
   "outputs": [
    {
     "output_type": "stream",
     "name": "stdout",
     "text": [
      "Inorder traversal of the modified tree\n30\n40\n50\n60\n70\n80\n"
     ]
    }
   ],
   "source": [
    "root = deleteNode(r, 20)\n",
    "print(\"Inorder traversal of the modified tree\")\n",
    "inorder(root)"
   ]
  },
  {
   "cell_type": "code",
   "execution_count": 24,
   "metadata": {},
   "outputs": [
    {
     "output_type": "stream",
     "name": "stdout",
     "text": [
      "Inorder traversal of the modified tree\n30\n40\n50\n70\n80\n250\n"
     ]
    }
   ],
   "source": [
    "root = deleteNode(r, 60)\n",
    "insert(root, 250)\n",
    "print(\"Inorder traversal of the modified tree\")\n",
    "inorder(root)"
   ]
  },
  {
   "cell_type": "code",
   "execution_count": null,
   "metadata": {},
   "outputs": [],
   "source": []
  }
 ]
}